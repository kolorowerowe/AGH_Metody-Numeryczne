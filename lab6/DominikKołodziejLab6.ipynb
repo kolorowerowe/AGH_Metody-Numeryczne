{
 "cells": [
  {
   "cell_type": "code",
   "execution_count": 1,
   "metadata": {},
   "outputs": [],
   "source": [
    "import math\n",
    "import numpy as np\n",
    "import scipy as sc\n",
    "from scipy import integrate\n",
    "from scipy import stats\n",
    "from scipy import optimize\n",
    "\n",
    "\n",
    "import scipy.misc\n",
    "import matplotlib.pyplot as plt\n",
    "\n",
    "def divide(a,b,n):\n",
    "    ret=[]\n",
    "    for i in range(n+1):\n",
    "        ret.append(a+(i*(b-a))/n)\n",
    "    return ret\n"
   ]
  },
  {
   "cell_type": "markdown",
   "metadata": {},
   "source": [
    "$ \\int_0^1 e^{-2x}dx= -\\frac{1}{2}e^{-2x}|^1_0 = \\frac{1}{2}(1-\\frac{1}{e^2}) = 0.43233235838169365$\n"
   ]
  },
  {
   "cell_type": "code",
   "execution_count": 2,
   "metadata": {},
   "outputs": [
    {
     "name": "stdout",
     "output_type": "stream",
     "text": [
      "\n",
      "1. Metoda analityczna, wzór u góry\n",
      "0.43233235838169365\n",
      "\n",
      "2. Metoda prostokątów\n",
      "0.36787944117144233\n",
      "\n",
      "3. Prosty wzór trapezów\n",
      "0.5676676416183064\n",
      "\n",
      "4. Prosty wzór Simpsona\n",
      "0.4344755079870637\n",
      "\n",
      "5. Złożony wzór trapezów\n",
      "0.43377250641846693\n",
      "\n",
      "6. Złożony wzór Simpsona\n",
      "0.43233259828070303\n",
      "\n",
      "7. Metoda Romberga \n",
      "0.43233235838943557\n",
      "\n",
      "8. Metoda scipy.integrate.quad\n",
      "0.4323323583816936\n",
      "\n",
      "Najbardziej zbliżone wyniki do analitycznego dają funkcje biblioteczne, czyli .romberg oraz .quad oraz złożony wzór Simpsona, gdyż Simpson przybliża funkcję wieloma parablami, które są podobne do funkcji wykładniczej\n",
      "\n"
     ]
    }
   ],
   "source": [
    "#zadanie 1\n",
    "\n",
    "def f(x):\n",
    "    return math.exp(-2*x)\n",
    "\n",
    "a=0\n",
    "b=1\n",
    "n=10 # tyle podprzedziałów\n",
    "\n",
    "## 1\n",
    "print(\"\\n1. Metoda analityczna, wzór u góry\")\n",
    "S=(1/2)*(1-1/(math.e)**2)\n",
    "print(S)\n",
    "\n",
    "## 2\n",
    "print (\"\\n2. Metoda prostokątów\")\n",
    "\n",
    "S=(b-a)*f((a+b)/2)\n",
    "print(S)\n",
    "\n",
    "## 3\n",
    "print (\"\\n3. Prosty wzór trapezów\")\n",
    "S=((b-a)/2)*(f(a)+f(b))\n",
    "print(S)\n",
    "\n",
    "## 4\n",
    "print (\"\\n4. Prosty wzór Simpsona\")\n",
    "S=((b-a)/6)*(f(a)+4*f((a+b)/2) + f(b))\n",
    "print(S)\n",
    "\n",
    "## 5\n",
    "print (\"\\n5. Złożony wzór trapezów\")\n",
    "x=divide(0,1,10)\n",
    "S=0;\n",
    "for i in range (len(x)-1):\n",
    "    S+= ((x[i+1]-x[i])/2)*(f(x[i])+f(x[i+1]))\n",
    "print(S)\n",
    "\n",
    "## 6\n",
    "print (\"\\n6. Złożony wzór Simpsona\")\n",
    "x=divide(0,1,10)\n",
    "S=0;\n",
    "for i in range (len(x)-1):\n",
    "    S+= ((x[i+1]-x[i])/6)*(f(x[i])+  4*f((x[i]+x[i+1])/2) + f(x[i+1]))\n",
    "print(S)\n",
    "\n",
    "\n",
    "## 7\n",
    "print (\"\\n7. Metoda Romberga \")\n",
    "S=sc.integrate.romberg(f,a,b,tol=10**(-6))\n",
    "print(S)\n",
    "\n",
    "## 8\n",
    "print(\"\\n8. Metoda scipy.integrate.quad\")\n",
    "S=sc.integrate.quad(f,a,b)[0]\n",
    "print(S)\n",
    "\n",
    "\n",
    "print(\"\\nNajbardziej zbliżone wyniki do analitycznego dają funkcje biblioteczne, czyli .romberg oraz .quad oraz złożony wzór Simpsona, gdyż Simpson przybliża funkcję wieloma parablami, które są podobne do funkcji wykładniczej\")\n",
    "print(\"\")"
   ]
  },
  {
   "cell_type": "code",
   "execution_count": 13,
   "metadata": {},
   "outputs": [
    {
     "name": "stdout",
     "output_type": "stream",
     "text": [
      "\n",
      "Wartość referencyjna:  1.6448536269514722\n",
      "\n",
      "Wynik z trapezów:  1.6448907135693658 , błąd:  3.7086617893589136e-05\n",
      "Wynik z simpsona:  1.6448536269391654 , błąd:  1.230682222796986e-11\n"
     ]
    }
   ],
   "source": [
    "# zadanie 2\n",
    "\n",
    "def trapezy(f, a, b, n):\n",
    "    x=divide(a,b,n)\n",
    "    wynik=0\n",
    "    for i in range (len(x)-1):\n",
    "        wynik+= ((x[i+1]-x[i])/2)*(f(x[i])+f(x[i+1]))\n",
    "    return wynik\n",
    "\n",
    "def simpsony(f, a, b, n):\n",
    "    x=divide(a,b,n)\n",
    "    wynik=0\n",
    "    for i in range (len(x)-1):\n",
    "        wynik+= ( (x[i+1]-x[i]) / 6 ) * (f(x[i])+  4*f((x[i]+x[i+1])/2) + f(x[i+1]))\n",
    "    return wynik\n",
    "\n",
    "def f_pom(t):\n",
    "    return math.exp((-t**2)/2)/math.sqrt(2*math.pi)\n",
    "\n",
    "def pom_trap(x):\n",
    "    return trapezy(f_pom, 0, x,100)-0.45\n",
    "\n",
    "def sim_trap(x):\n",
    "    return simpsony(f_pom, 0, x,100)-0.45\n",
    "\n",
    "\n",
    "wr=sc.stats.norm.ppf(0.95)\n",
    "print(\"\\nWartość referencyjna: \", wr)\n",
    "\n",
    "tr= sc.optimize.newton(pom_trap,0.5,f_pom)\n",
    "sp= sc.optimize.newton(sim_trap,0.5,f_pom)\n",
    "\n",
    "print (\"\\nWynik z trapezów: \", tr, \", błąd: \", abs(wr-tr))\n",
    "print (\"Wynik z simpsona: \", sp, \", błąd: \", abs(wr-sp))\n",
    "\n",
    "\n"
   ]
  },
  {
   "cell_type": "code",
   "execution_count": 4,
   "metadata": {},
   "outputs": [
    {
     "data": {
      "image/png": "[encoded data removed]",
      "text/plain": [
       "<Figure size 432x288 with 1 Axes>"
      ]
     },
     "metadata": {},
     "output_type": "display_data"
    },
    {
     "data": {
      "image/png": "[encoded data removed]",
      "text/plain": [
       "<Figure size 432x288 with 1 Axes>"
      ]
     },
     "metadata": {},
     "output_type": "display_data"
    },
    {
     "name": "stdout",
     "output_type": "stream",
     "text": [
      "Kierowca przebył drogę  7.062500000000001 m\n",
      "średnia predkość w przedziale czasowym t=[0,0.5] to  4.4999999999999964 m/s\n"
     ]
    }
   ],
   "source": [
    "# zadanie 3\n",
    "\n",
    "t_tab=[0, 0.5, 1, 2, 3, 4]\n",
    "a_tab=[-4.5, -4.5, -2.3, -1.0, -0.5, 0]\n",
    "\n",
    "f_a=sc.interpolate.interp1d(t_tab,a_tab,'linear')\n",
    "x=np.linspace(0,4)\n",
    "a=f_a(x)\n",
    "\n",
    "\n",
    "plt.plot(x,a)\n",
    "plt.grid(True)\n",
    "plt.xlabel('t')\n",
    "plt.ylabel('a')\n",
    "plt.show()\n",
    "\n",
    "v_tab=[]\n",
    "for i in range(len(t_tab)-1,-1,-1):\n",
    "    v_tab.insert(0, sc.integrate.quad(f_a, 4, t_tab[i])[0])\n",
    "    \n",
    "f_v=sc.interpolate.interp1d(t_tab,v_tab,'linear')\n",
    "plt.plot(t_tab,v_tab)\n",
    "plt.grid(True)\n",
    "plt.xlabel('t')\n",
    "plt.ylabel('v')\n",
    "plt.show()\n",
    "\n",
    "s_0=sc.integrate.quad(f_v, t_tab[0],4)[0]\n",
    "v_sr = (v_tab[0]-v_tab[1])/0.5\n",
    "\n",
    "print(\"Kierowca przebył drogę \", s_0, \"m\")\n",
    "print(\"średnia predkość w przedziale czasowym t=[0,0.5] to \", v_sr, \"m/s\")\n",
    "\n",
    "\n"
   ]
  },
  {
   "cell_type": "code",
   "execution_count": 5,
   "metadata": {},
   "outputs": [
    {
     "name": "stdout",
     "output_type": "stream",
     "text": [
      "Metoda .romberg:  15.825159885482952\n",
      "Metoda .quad dla porównania:  11.055475108049423\n",
      "Trapezy:  11.063484780895658\n",
      "Simpsony:  11.063484780895655\n"
     ]
    },
    {
     "name": "stderr",
     "output_type": "stream",
     "text": [
      "/home/dk/.local/lib/python3.6/site-packages/scipy/integrate/quadpack.py:385: IntegrationWarning: The maximum number of subdivisions (50) has been achieved.\n",
      "  If increasing the limit yields no improvement it is advised to analyze \n",
      "  the integrand in order to determine the difficulties.  If the position of a \n",
      "  local difficulty can be determined (singularity, discontinuity) one will \n",
      "  probably gain from splitting up the interval and calling the integrator \n",
      "  on the subranges.  Perhaps a special-purpose integrator should be used.\n",
      "  warnings.warn(msg, IntegrationWarning)\n"
     ]
    },
    {
     "data": {
      "image/png": "[encoded data removed]",
      "text/plain": [
       "<Figure size 432x288 with 1 Axes>"
      ]
     },
     "metadata": {},
     "output_type": "display_data"
    },
    {
     "name": "stdout",
     "output_type": "stream",
     "text": [
      "Jak widzimy działania dla danej funkcji są niestabilne, występują wysokie błędy numeryczne w niektórych miejscach.\n"
     ]
    }
   ],
   "source": [
    "# zadanie 4\n",
    "\n",
    "def f(x): #x podane w metrach\n",
    "    return 0.1*math.sin(10*math.pi*x)\n",
    "\n",
    "def f_prim(x):\n",
    "    return math.pi*math.cos(10*math.pi*x)\n",
    "\n",
    "def f_pom(x):\n",
    "    return math.sqrt(1+math.pow( f_prim(x), 2))\n",
    "\n",
    "a=0\n",
    "b=4.8\n",
    "\n",
    "L_romberg=sc.integrate.romberg(f_pom,a,b,tol=10**(-6))\n",
    "print(\"Metoda .romberg: \",L_romberg)\n",
    "\n",
    "print(\"Metoda .quad dla porównania: \", sc.integrate.quad(f_pom,a,b)[0])\n",
    "\n",
    "def trapezy(f, a, b, n):\n",
    "    x=divide(a,b,n)\n",
    "    wynik=0\n",
    "    for i in range (len(x)-1):\n",
    "        wynik+= ((x[i+1]-x[i])/2)*(f(x[i])+f(x[i+1]))\n",
    "    return wynik\n",
    "\n",
    "def simpsony(f, a, b, n):\n",
    "    x=divide(a,b,n)\n",
    "    wynik=0\n",
    "    for i in range (len(x)-1):\n",
    "        wynik+= ( (x[i+1]-x[i]) / 6 ) * (f(x[i])+  4*f((x[i]+x[i+1])/2) + f(x[i+1]))\n",
    "    return wynik\n",
    "\n",
    "#trapezów\n",
    "print(\"Trapezy: \", trapezy(f_pom,a,b,100))\n",
    "\n",
    "# Simpsona\n",
    "print(\"Simpsony: \", simpsony(f_pom,a,b,100))\n",
    "\n",
    "\n",
    "zakres=range(1,100)\n",
    "w_simps=[]\n",
    "w_trap=[]\n",
    "\n",
    "for i in zakres:\n",
    "    w_simps.append(simpsony(f_pom,a,b,i))\n",
    "    w_trap.append(trapezy(f_pom,a,b,i))\n",
    "\n",
    "\n",
    "plt.plot(zakres,w_simps)\n",
    "plt.plot(zakres,w_trap)\n",
    "plt.grid(True)\n",
    "plt.xlabel('n')\n",
    "plt.ylabel('wynik całki')\n",
    "plt.show()\n",
    "\n",
    "print(\"Jak widzimy działania dla danej funkcji są niestabilne, występują wysokie błędy numeryczne w niektórych miejscach.\")"
   ]
  },
  {
   "cell_type": "code",
   "execution_count": null,
   "metadata": {},
   "outputs": [],
   "source": []
  },
  {
   "cell_type": "code",
   "execution_count": null,
   "metadata": {},
   "outputs": [],
   "source": []
  }
 ],
 "metadata": {
  "kernelspec": {
   "display_name": "Python 3",
   "language": "python",
   "name": "python3"
  },
  "language_info": {
   "codemirror_mode": {
    "name": "ipython",
    "version": 3
   },
   "file_extension": ".py",
   "mimetype": "text/x-python",
   "name": "python",
   "nbconvert_exporter": "python",
   "pygments_lexer": "ipython3",
   "version": "3.6.7"
  }
 },
 "nbformat": 4,
 "nbformat_minor": 2
}
