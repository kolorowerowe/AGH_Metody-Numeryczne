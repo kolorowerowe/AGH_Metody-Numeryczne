{
 "cells": [
  {
   "cell_type": "code",
   "execution_count": 1,
   "metadata": {},
   "outputs": [
    {
     "name": "stdout",
     "output_type": "stream",
     "text": [
      "\n",
      "Blad bezwzgledny: 0.0012644892673496777\n",
      "Blad wzgledny: 0.0004024994347707008\n",
      "\n",
      "Blad bezwzgledny: 0.0002818284590451192\n",
      "Blad wzgledny: 0.00010367889601972718\n",
      "\n",
      "Blad bezwzgledny: 11.544268632989315\n",
      "Blad wzgledny: 0.008332470227394952\n",
      "\n",
      "Blad bezwzgledny: 3343.1271580516477\n",
      "Blad wzgledny: 0.009212762230080598\n"
     ]
    }
   ],
   "source": [
    "#zadanie 1\n",
    "import math;\n",
    "\n",
    "p = [0,0,0,0]\n",
    "p_ = [0,0,0,0]\n",
    "\n",
    "p[0] = math.pi\n",
    "p_[0] = 22/7\n",
    "\n",
    "p[1] = math.e\n",
    "p_[1] = 2.718\n",
    "\n",
    "p[2] = math.pow(10,math.pi)\n",
    "p_[2] = 1397\n",
    "\n",
    "p[3]=math.factorial(9)\n",
    "p_[3]=math.sqrt(18*math.pi)*math.pow(9/math.e, 9)\n",
    "\n",
    "\n",
    "for i in range (0,4):\n",
    "    b_bez = abs(p[i]-p_[i])\n",
    "    b_wzg = b_bez/p[i]\n",
    "    print (\"\\nBlad bezwzgledny: \" + str(b_bez) + \"\\nBlad wzgledny: \" + str(b_wzg))"
   ]
  },
  {
   "cell_type": "code",
   "execution_count": 1,
   "metadata": {},
   "outputs": [
    {
     "ename": "NameError",
     "evalue": "name 'math' is not defined",
     "output_type": "error",
     "traceback": [
      "\u001b[0;31m---------------------------------------------------------------------------\u001b[0m",
      "\u001b[0;31mNameError\u001b[0m                                 Traceback (most recent call last)",
      "\u001b[0;32m<ipython-input-1-2959975e1f13>\u001b[0m in \u001b[0;36m<module>\u001b[0;34m()\u001b[0m\n\u001b[1;32m     14\u001b[0m     \u001b[0ml\u001b[0m\u001b[0;34m.\u001b[0m\u001b[0mappend\u001b[0m\u001b[0;34m(\u001b[0m\u001b[0mi\u001b[0m\u001b[0;34m+\u001b[0m\u001b[0;36m1\u001b[0m\u001b[0;34m)\u001b[0m\u001b[0;34m\u001b[0m\u001b[0;34m\u001b[0m\u001b[0m\n\u001b[1;32m     15\u001b[0m \u001b[0;34m\u001b[0m\u001b[0m\n\u001b[0;32m---> 16\u001b[0;31m \u001b[0mvec\u001b[0m\u001b[0;34m=\u001b[0m\u001b[0mG\u001b[0m\u001b[0;34m(\u001b[0m\u001b[0mn\u001b[0m\u001b[0;34m)\u001b[0m\u001b[0;34m\u001b[0m\u001b[0;34m\u001b[0m\u001b[0m\n\u001b[0m\u001b[1;32m     17\u001b[0m \u001b[0mprint\u001b[0m\u001b[0;34m(\u001b[0m\u001b[0mvec\u001b[0m\u001b[0;34m)\u001b[0m\u001b[0;34m\u001b[0m\u001b[0;34m\u001b[0m\u001b[0m\n\u001b[1;32m     18\u001b[0m \u001b[0mb_wzg\u001b[0m \u001b[0;34m=\u001b[0m \u001b[0;34m[\u001b[0m\u001b[0;34m]\u001b[0m\u001b[0;34m\u001b[0m\u001b[0;34m\u001b[0m\u001b[0m\n",
      "\u001b[0;32m<ipython-input-1-2959975e1f13>\u001b[0m in \u001b[0;36mG\u001b[0;34m(p)\u001b[0m\n\u001b[1;32m      5\u001b[0m     \u001b[0mvector\u001b[0m \u001b[0;34m=\u001b[0m \u001b[0;34m[\u001b[0m\u001b[0;34m]\u001b[0m\u001b[0;34m\u001b[0m\u001b[0;34m\u001b[0m\u001b[0m\n\u001b[1;32m      6\u001b[0m     \u001b[0;32mfor\u001b[0m \u001b[0mi\u001b[0m \u001b[0;32min\u001b[0m \u001b[0mrange\u001b[0m \u001b[0;34m(\u001b[0m\u001b[0;36m1\u001b[0m\u001b[0;34m,\u001b[0m\u001b[0mp\u001b[0m\u001b[0;34m+\u001b[0m\u001b[0;36m1\u001b[0m\u001b[0;34m)\u001b[0m\u001b[0;34m:\u001b[0m\u001b[0;34m\u001b[0m\u001b[0;34m\u001b[0m\u001b[0m\n\u001b[0;32m----> 7\u001b[0;31m         \u001b[0mvector\u001b[0m\u001b[0;34m.\u001b[0m\u001b[0mappend\u001b[0m\u001b[0;34m(\u001b[0m\u001b[0;34m(\u001b[0m\u001b[0;36m1\u001b[0m\u001b[0;34m/\u001b[0m\u001b[0mi\u001b[0m\u001b[0;34m)\u001b[0m\u001b[0;34m*\u001b[0m\u001b[0;34m(\u001b[0m\u001b[0mmath\u001b[0m\u001b[0;34m.\u001b[0m\u001b[0mpow\u001b[0m\u001b[0;34m(\u001b[0m\u001b[0;36m10\u001b[0m\u001b[0;34m,\u001b[0m\u001b[0mi\u001b[0m\u001b[0;34m)\u001b[0m\u001b[0;34m*\u001b[0m\u001b[0;34m(\u001b[0m\u001b[0;36m1\u001b[0m\u001b[0;34m+\u001b[0m\u001b[0mi\u001b[0m\u001b[0;34m*\u001b[0m\u001b[0mround\u001b[0m\u001b[0;34m(\u001b[0m\u001b[0mmath\u001b[0m\u001b[0;34m.\u001b[0m\u001b[0mpi\u001b[0m\u001b[0;34m,\u001b[0m\u001b[0;36m15\u001b[0m\u001b[0;34m)\u001b[0m\u001b[0;34m*\u001b[0m\u001b[0mmath\u001b[0m\u001b[0;34m.\u001b[0m\u001b[0mpow\u001b[0m\u001b[0;34m(\u001b[0m\u001b[0;36m10\u001b[0m\u001b[0;34m,\u001b[0m\u001b[0;34m-\u001b[0m\u001b[0mi\u001b[0m\u001b[0;34m)\u001b[0m\u001b[0;34m)\u001b[0m\u001b[0;34m-\u001b[0m\u001b[0mmath\u001b[0m\u001b[0;34m.\u001b[0m\u001b[0mpow\u001b[0m\u001b[0;34m(\u001b[0m\u001b[0;36m10\u001b[0m\u001b[0;34m,\u001b[0m\u001b[0mi\u001b[0m\u001b[0;34m)\u001b[0m\u001b[0;34m)\u001b[0m\u001b[0;34m)\u001b[0m\u001b[0;34m\u001b[0m\u001b[0;34m\u001b[0m\u001b[0m\n\u001b[0m\u001b[1;32m      8\u001b[0m     \u001b[0;32mreturn\u001b[0m \u001b[0mvector\u001b[0m\u001b[0;34m\u001b[0m\u001b[0;34m\u001b[0m\u001b[0m\n\u001b[1;32m      9\u001b[0m \u001b[0;34m\u001b[0m\u001b[0m\n",
      "\u001b[0;31mNameError\u001b[0m: name 'math' is not defined"
     ]
    }
   ],
   "source": [
    "#zadanie 2\n",
    "import matplotlib.pyplot as plt\n",
    "\n",
    "def G(p):\n",
    "    vector = []\n",
    "    for i in range (1,p+1):\n",
    "        vector.append((1/i)*(math.pow(10,i)*(1+i*round(math.pi,15)*math.pow(10,-i))-math.pow(10,i)))\n",
    "    return vector\n",
    "\n",
    "n=20\n",
    "\n",
    "l=[]\n",
    "for i in range(n):\n",
    "    l.append(i+1)\n",
    "\n",
    "vec=G(n)\n",
    "print(vec)\n",
    "b_wzg = []\n",
    "b_bez = []\n",
    "for i in range (n):\n",
    "    b_wzg.append(abs(vec[i]-math.pi))\n",
    "    b_bez.append(b_wzg[i]/math.pi)\n",
    "    \n",
    "plt.semilogy(l, b_wzg)\n",
    "plt.title('Wykres logarytmiczny')\n",
    "plt.xlabel('p')\n",
    "plt.ylabel('blad wzgledny')\n",
    "plt.show()\n",
    "\n",
    "plt.semilogy(l, b_bez)\n",
    "plt.title('Wykres logarytmiczny')\n",
    "plt.xlabel('p')\n",
    "plt.ylabel('blad bezwzgledny')\n",
    "plt.show()\n",
    "\n",
    "print(\"Wartość G(p) obliczona w sposób analityczny nie powinna zależeć od p, powinna być stała i wynosić wartość liczy PI.\")\n",
    "print(\"Im większe n tym wynik bardziej odbiega od oczekiwanego. Następuje to przez wielokrotne kumulowanie się błędu.(niestabilność numeryczna).\")\n",
    "print(\"Występuje tutaj błąd reprezentacji.\")\n"
   ]
  },
  {
   "cell_type": "code",
   "execution_count": 3,
   "metadata": {},
   "outputs": [
    {
     "name": "stdout",
     "output_type": "stream",
     "text": [
      "\n",
      "Błąd wzgledny przy n=5: 0.0016151617923787498\n",
      "Bezwzględny: 0.0005945380830842024\n",
      "\n",
      "Błąd wzgledny przy n=10: 2.7312660577649694e-08\n",
      "Bezwzględny: 1.0047766411168662e-08\n",
      "\n",
      "------------------------- licząc od końca ------------------\n",
      "\n",
      "Błąd wzgledny przy n=5: 0.0016151617923783057\n",
      "Bezwzględny: 0.0005945380830840389\n",
      "\n",
      "Błąd wzgledny przy n=10: 2.7312660577649694e-08\n",
      "Bezwzględny: 1.0047766411168662e-08\n"
     ]
    }
   ],
   "source": [
    "#zadanie 3\n",
    "\n",
    "def e(n):\n",
    "    sum=0;\n",
    "    for i in range (n+1):\n",
    "        sum+=1/math.factorial(i)\n",
    "    return sum;\n",
    "\n",
    "def e_odw(n):\n",
    "    sum=0;\n",
    "    for i in range (n,-1,-1):\n",
    "        sum+=1/math.factorial(i)\n",
    "    return sum;\n",
    "\n",
    "b_wzg5 = abs(e(5)-math.e)\n",
    "b_bez5 = b_wzg5/e(5)\n",
    "\n",
    "b_wzg10 = abs(e(10)-math.e)\n",
    "b_bez10 = b_wzg10/e(10)\n",
    "\n",
    "print(\"\\nBłąd wzgledny przy n=5: \" + str(b_wzg5) + \"\\nBezwzględny: \" + str(b_bez5))\n",
    "print(\"\\nBłąd wzgledny przy n=10: \" + str(b_wzg10) + \"\\nBezwzględny: \" + str(b_bez10))\n",
    "\n",
    "print (\"\\n------------------------- licząc od końca ------------------\")\n",
    "\n",
    "b_wzg5_odw = abs(e_odw(5)-math.e)\n",
    "b_bez5_odw = b_wzg5_odw/e_odw(5)\n",
    "\n",
    "b_wzg10_odw = abs(e_odw(10)-math.e)\n",
    "b_bez10_odw = b_wzg10_odw/e_odw(10)\n",
    "\n",
    "print(\"\\nBłąd wzgledny przy n=5: \" + str(b_wzg5_odw) + \"\\nBezwzględny: \" + str(b_bez5_odw))\n",
    "print(\"\\nBłąd wzgledny przy n=10: \" + str(b_wzg10_odw) + \"\\nBezwzględny: \" + str(b_bez10_odw))"
   ]
  },
  {
   "cell_type": "code",
   "execution_count": 18,
   "metadata": {
    "scrolled": true
   },
   "outputs": [
    {
     "name": "stdout",
     "output_type": "stream",
     "text": [
      "0.0\n",
      "-1.1102230246251565e-16\n",
      "\n",
      "Machine parameters for float64\n",
      "---------------------------------------------------------------\n",
      "precision =  15   resolution = 1.0000000000000001e-15\n",
      "machep =    -52   eps =        2.2204460492503131e-16\n",
      "negep =     -53   epsneg =     1.1102230246251565e-16\n",
      "minexp =  -1022   tiny =       2.2250738585072014e-308\n",
      "maxexp =   1024   max =        1.7976931348623157e+308\n",
      "nexp =       11   min =        -max\n",
      "---------------------------------------------------------------\n",
      "\n",
      "Wnioskuje, że liczba bitow mantysy wynosi w tym przypadku 52\n",
      "Mamy tutaj do czynienia z błędem reprezentacji\n"
     ]
    }
   ],
   "source": [
    "#zadanie 4\n",
    "import numpy as np\n",
    "\n",
    "a = 1.0\n",
    "b1= 1/2**52\n",
    "b2= 1/2**53\n",
    "\n",
    "print(a+b1-a-b1)\n",
    "print(a+b2-a-b2)\n",
    "print()\n",
    "\n",
    "print(np.finfo(a))\n",
    "\n",
    "print(\"Wnioskuje, że liczba bitow mantysy wynosi w tym przypadku 52\")\n",
    "print(\"Mamy tutaj do czynienia z błędem reprezentacji\")"
   ]
  },
  {
   "cell_type": "code",
   "execution_count": 17,
   "metadata": {},
   "outputs": [
    {
     "name": "stdout",
     "output_type": "stream",
     "text": [
      "3.14063710098594\n",
      "blad wzgledny: 0.0009555526038531603\n",
      "Mamy tutaj do czynienia z błędem obcięcia, gdyż obliczyliśmy jedynie początkową (skończoną) liczbę wyrazów szeregu nieskończonego\n"
     ]
    }
   ],
   "source": [
    "#zadanie 5\n",
    "pi=math.sqrt(6*sum([(1/n**2) for n in range(1,1000)]))\n",
    "print (pi)\n",
    "print(\"blad wzgledny: \" + str(abs(math.pi-pi)))\n",
    "print(\"Mamy tutaj do czynienia z błędem obcięcia, gdyż obliczyliśmy jedynie początkową (skończoną) liczbę wyrazów szeregu nieskończonego\")"
   ]
  },
  {
   "cell_type": "code",
   "execution_count": null,
   "metadata": {},
   "outputs": [],
   "source": []
  },
  {
   "cell_type": "code",
   "execution_count": null,
   "metadata": {},
   "outputs": [],
   "source": []
  },
  {
   "cell_type": "code",
   "execution_count": null,
   "metadata": {},
   "outputs": [],
   "source": []
  }
 ],
 "metadata": {
  "kernelspec": {
   "display_name": "Python 3",
   "language": "python",
   "name": "python3"
  },
  "language_info": {
   "codemirror_mode": {
    "name": "ipython",
    "version": 3
   },
   "file_extension": ".py",
   "mimetype": "text/x-python",
   "name": "python",
   "nbconvert_exporter": "python",
   "pygments_lexer": "ipython3",
   "version": "3.6.7"
  }
 },
 "nbformat": 4,
 "nbformat_minor": 2
}
