{
 "cells": [
  {
   "cell_type": "code",
   "execution_count": 1,
   "metadata": {},
   "outputs": [
    {
     "name": "stdout",
     "output_type": "stream",
     "text": [
      "<class 'float'>\n",
      "<class 'int'>\n",
      "<class 'complex'>\n",
      "<class 'float'>\n",
      "<class 'complex'>\n"
     ]
    }
   ],
   "source": [
    "#zadanie1\n",
    "import math\n",
    "k=1240*math.sqrt(7)\n",
    "m=4467\n",
    "l=2j\n",
    "d=k+m\n",
    "c=d+l\n",
    "\n",
    "print(type(k))\n",
    "print(type(m))\n",
    "print(type(l))\n",
    "print(type(d))\n",
    "print(type(c))"
   ]
  },
  {
   "cell_type": "code",
   "execution_count": 2,
   "metadata": {},
   "outputs": [
    {
     "name": "stdout",
     "output_type": "stream",
     "text": [
      "7747.731625720093\n",
      "7747.73\n",
      "7747.732\n",
      "7747.73162572009277937468\n"
     ]
    }
   ],
   "source": [
    "#zadanie2\n",
    "print(d)\n",
    "print(\"%.2f\"%d)\n",
    "print(\"%.3f\"%d)\n",
    "print(\"%.20f\"%d)"
   ]
  },
  {
   "cell_type": "code",
   "execution_count": 3,
   "metadata": {},
   "outputs": [
    {
     "name": "stdout",
     "output_type": "stream",
     "text": [
      "5340.707511102648\n"
     ]
    }
   ],
   "source": [
    "#zadanie3\n",
    "r=17\n",
    "h=33\n",
    "p_p=math.pi*r**2\n",
    "p_b=2*math.pi*r*h\n",
    "p_c=2*p_p+p_b\n",
    "print(p_c)"
   ]
  },
  {
   "cell_type": "code",
   "execution_count": 4,
   "metadata": {},
   "outputs": [
    {
     "data": {
      "text/plain": [
       "'\\nkomentarz\\n'"
      ]
     },
     "execution_count": 4,
     "metadata": {},
     "output_type": "execute_result"
    }
   ],
   "source": [
    "#zadanie4\n",
    "\"\"\"\n",
    "komentarz\n",
    "\"\"\""
   ]
  },
  {
   "cell_type": "code",
   "execution_count": 5,
   "metadata": {},
   "outputs": [
    {
     "name": "stdout",
     "output_type": "stream",
     "text": [
      "0.6585996680785801\n"
     ]
    }
   ],
   "source": [
    "#zadanie5\n",
    "x1=1\n",
    "t=2\n",
    "r=3\n",
    "B=((x1+r)/(r*math.sin(2*x1)+3.3456))*x1**(t*r)\n",
    "print(B)"
   ]
  },
  {
   "cell_type": "code",
   "execution_count": 6,
   "metadata": {},
   "outputs": [
    {
     "name": "stdout",
     "output_type": "stream",
     "text": [
      "Macierz:\n",
      " [[ 1.41421356  1.         -1.41421356]\n",
      " [ 0.          1.          1.        ]\n",
      " [-1.41421356  1.41421356  1.        ]]\n",
      "Macierz odwrotna :\n",
      " [[ 0.10355339  0.75       -0.60355339]\n",
      " [ 0.35355339  0.14644661  0.35355339]\n",
      " [-0.35355339  0.85355339 -0.35355339]]\n",
      "Macierz transponowana :\n",
      " [[ 1.41421356  0.         -1.41421356]\n",
      " [ 1.          1.          1.41421356]\n",
      " [-1.41421356  1.          1.        ]]\n",
      "Wyznacznik: \n",
      " -4.0\n"
     ]
    }
   ],
   "source": [
    "#zadanie6\n",
    "import numpy as np # słowo kluczowe \"as\" oznacza przesłania nazwę numpy i pozwala nadać jej alias\n",
    "a=math.sqrt(2)\n",
    "M = np.array([[a,1,-a],[0,1,1],[-a,a,1]])\n",
    "\n",
    "print(\"Macierz:\\n {0}\".format(M))\n",
    "\n",
    "M_odw=np.linalg.inv(np.array(M))\n",
    "print(\"Macierz odwrotna :\\n {0}\".format(M_odw))\n",
    "\n",
    "M_tr=np.transpose(np.array(M))\n",
    "print(\"Macierz transponowana :\\n {0}\".format(M_tr))\n",
    "\n",
    "M_det=np.linalg.det(M)\n",
    "print(\"Wyznacznik: \\n {0}\".format(M_det))\n"
   ]
  },
  {
   "cell_type": "code",
   "execution_count": 7,
   "metadata": {},
   "outputs": [
    {
     "name": "stdout",
     "output_type": "stream",
     "text": [
      "Wylosowana tablica 4x4:\n",
      " [[4 0 6 2]\n",
      " [3 8 6 3]\n",
      " [0 7 0 2]\n",
      " [5 6 4 2]]\n",
      "Element 1x1: 4\n",
      "Element 3x3: 0\n",
      "Element 3x2: 7\n",
      "Elementy trzeciej kolumny:\n",
      " [6 6 0 4]\n",
      "Elementy drugiego wiersza:\n",
      " [3 8 6 3]\n"
     ]
    }
   ],
   "source": [
    "#zadanie7\n",
    "P = np.array([np.random.randint(0,10,4),np.random.randint(0,10,4),np.random.randint(0,10,4),np.random.randint(0,10,4)])\n",
    "print(\"Wylosowana tablica 4x4:\\n {0}\".format(P))\n",
    "print(\"Element 1x1: {0}\".format(P[0,0]))\n",
    "print(\"Element 3x3: {0}\".format(P[2,2]))\n",
    "print(\"Element 3x2: {0}\".format(P[2,1]))\n",
    "\n",
    "wektor1=P[:,2]\n",
    "print(\"Elementy trzeciej kolumny:\\n {0}\".format(wektor1))\n",
    "\n",
    "wektor2 = P[1,:]\n",
    "print(\"Elementy drugiego wiersza:\\n {0}\".format(wektor2))"
   ]
  },
  {
   "cell_type": "code",
   "execution_count": 45,
   "metadata": {},
   "outputs": [
    {
     "name": "stdout",
     "output_type": "stream",
     "text": [
      "[ 5.  3.  2. -2. -1.]\n",
      "-4.547473508864641e-13\n",
      "0.0\n",
      "-1.4210854715202004e-14\n",
      "9.237055564881302e-14\n",
      "2.1316282072803006e-14\n"
     ]
    }
   ],
   "source": [
    "#zadanie8\n",
    "def f(p, x):\n",
    "    suma=0;\n",
    "    dl=len(p)\n",
    "    for i in range (dl):\n",
    "        suma+=p[i]*x**(dl-i-1)\n",
    "    return suma\n",
    "        \n",
    "p=[1,-7,3,43,-28,-60]\n",
    "pierwiastki=np.roots(p)\n",
    "print(pierwiastki)\n",
    "\n",
    "for i in pierwiastki:\n",
    "    print (f(p,i))"
   ]
  },
  {
   "cell_type": "code",
   "execution_count": 46,
   "metadata": {},
   "outputs": [
    {
     "name": "stdout",
     "output_type": "stream",
     "text": [
      "[ 1.21  2.21  3.21  4.21  5.21  6.21  7.21  8.21  9.21 10.21 11.21 12.21\n",
      " 13.21 14.21 15.21 16.21 17.21 18.21 19.21]\n",
      "[ 1.21        2.19894737  3.18789474  4.17684211  5.16578947  6.15473684\n",
      "  7.14368421  8.13263158  9.12157895 10.11052632 11.09947368 12.08842105\n",
      " 13.07736842 14.06631579 15.05526316 16.04421053 17.03315789 18.02210526\n",
      " 19.01105263 20.        ]\n"
     ]
    }
   ],
   "source": [
    "#zadanie9\n",
    "\n",
    "ciag1=np.arange(1.21, 20, 1)\n",
    "print(ciag1)\n",
    "\n",
    "ciag2=np.linspace(1.21,20,num=20)\n",
    "print(ciag2)"
   ]
  },
  {
   "cell_type": "code",
   "execution_count": 13,
   "metadata": {},
   "outputs": [
    {
     "data": {
      "image/png": "[encoded data removed]",
      "text/plain": [
       "<Figure size 432x288 with 1 Axes>"
      ]
     },
     "metadata": {},
     "output_type": "display_data"
    },
    {
     "data": {
      "image/png": "[encoded data removed]",
      "text/plain": [
       "<Figure size 432x288 with 1 Axes>"
      ]
     },
     "metadata": {},
     "output_type": "display_data"
    },
    {
     "data": {
      "image/png": "[encoded data removed]",
      "text/plain": [
       "<Figure size 432x288 with 1 Axes>"
      ]
     },
     "metadata": {},
     "output_type": "display_data"
    }
   ],
   "source": [
    "#zadanie10\n",
    "import matplotlib.pyplot as plt\n",
    "\n",
    "def funkcja(x):\n",
    "    return (x**3 - 3*x)\n",
    "\n",
    "x1 = np.linspace(-1,1)\n",
    "y1 = []\n",
    "\n",
    "for i in x1:\n",
    "    y1.append(funkcja(i))\n",
    "\n",
    "plt.plot(x1, y1)\n",
    "plt.title('Wykres przykladowy 1')\n",
    "plt.xlabel('x')\n",
    "plt.ylabel('y')\n",
    "plt.legend('Wykres 1')\n",
    "plt.show()\n",
    "\n",
    "x2 = np.linspace(-5,5)\n",
    "y2 = []\n",
    "\n",
    "for i in x2:\n",
    "    y2.append(funkcja(i))\n",
    "\n",
    "plt.plot(x2, y2)\n",
    "plt.title('Wykres przykladowy 2')\n",
    "plt.xlabel('x')\n",
    "plt.ylabel('y')\n",
    "plt.legend('Wykres 2')\n",
    "plt.show()\n",
    "\n",
    "x3 = np.linspace(0,5)\n",
    "y3 = []\n",
    "\n",
    "for i in x3:\n",
    "    y3.append(funkcja(i))\n",
    "\n",
    "plt.plot(x3, y3)\n",
    "plt.title('Wykres przykladowy 3')\n",
    "plt.xlabel('x')\n",
    "plt.ylabel('y')\n",
    "plt.legend('Wykres 3')\n",
    "plt.show();"
   ]
  },
  {
   "cell_type": "code",
   "execution_count": 11,
   "metadata": {},
   "outputs": [
    {
     "name": "stdout",
     "output_type": "stream",
     "text": [
      "W kilokaloriach: 347222 \n",
      "\n",
      "W dżulach: 82 \n",
      "\n"
     ]
    },
    {
     "data": {
      "image/png": "[encoded data removed]",
      "text/plain": [
       "<Figure size 432x288 with 1 Axes>"
      ]
     },
     "metadata": {},
     "output_type": "display_data"
    },
    {
     "data": {
      "image/png": "[encoded data removed]",
      "text/plain": [
       "<Figure size 432x288 with 1 Axes>"
      ]
     },
     "metadata": {},
     "output_type": "display_data"
    }
   ],
   "source": [
    "#zadanie11\n",
    "m1=2500 # kg\n",
    "v1=60 #km/h\n",
    "\n",
    "def Q_J(v,m):\n",
    "    v_s = v/3.6\n",
    "    Q=m*v_s**2/2 # w dżulach\n",
    "    return Q\n",
    "\n",
    "def J_to_kcal(Q):\n",
    "    return Q/4186;\n",
    "\n",
    "print (\"W kilokaloriach: %d \\n\" %Q_J(v1,m1))\n",
    "print (\"W dżulach: %d \\n\" %J_to_kcal(Q_J(v1,m1)))\n",
    "\n",
    "m2=3\n",
    "v2=200\n",
    "\n",
    "x2 = np.linspace(v2,0)\n",
    "y2 = []\n",
    "\n",
    "for i in x2:\n",
    "    y2.append(Q_J(i,m2))\n",
    "\n",
    "plt.plot(x2, y2)\n",
    "plt.title('Wykres liniowy')\n",
    "plt.xlabel('prędkość')\n",
    "plt.ylabel('ciepło')\n",
    "plt.legend('Wykres 2')\n",
    "plt.show()\n",
    "\n",
    "x3 = np.linspace(v2,0)\n",
    "y3 = []\n",
    "\n",
    "for i in x3:\n",
    "    y3.append(Q_J(i,m2))\n",
    "\n",
    "plt.semilogy(x3, y3)\n",
    "plt.title('Wykres logarytmiczny')\n",
    "plt.xlabel('prędkość')\n",
    "plt.ylabel('ciepło')\n",
    "plt.legend('Wykres 2')\n",
    "plt.show()\n",
    "\n",
    "\n"
   ]
  },
  {
   "cell_type": "code",
   "execution_count": null,
   "metadata": {},
   "outputs": [],
   "source": []
  },
  {
   "cell_type": "code",
   "execution_count": null,
   "metadata": {},
   "outputs": [],
   "source": []
  }
 ],
 "metadata": {
  "kernelspec": {
   "display_name": "Python 3",
   "language": "python",
   "name": "python3"
  },
  "language_info": {
   "codemirror_mode": {
    "name": "ipython",
    "version": 3
   },
   "file_extension": ".py",
   "mimetype": "text/x-python",
   "name": "python",
   "nbconvert_exporter": "python",
   "pygments_lexer": "ipython3",
   "version": "3.6.7"
  }
 },
 "nbformat": 4,
 "nbformat_minor": 1
}
